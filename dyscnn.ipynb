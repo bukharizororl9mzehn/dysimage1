{
 "cells": [
  {
   "cell_type": "code",
   "execution_count": 30,
   "id": "340a141d-21a0-422f-b100-4dc2c26351bc",
   "metadata": {
    "scrolled": true
   },
   "outputs": [
    {
     "name": "stdout",
     "output_type": "stream",
     "text": [
      "WARNING:tensorflow:From C:\\Users\\hp\\AppData\\Local\\Temp\\ipykernel_8808\\4256139488.py:2: The name tf.enable_eager_execution is deprecated. Please use tf.compat.v1.enable_eager_execution instead.\n",
      "\n"
     ]
    },
    {
     "name": "stderr",
     "output_type": "stream",
     "text": [
      "WARNING:tensorflow:From C:\\Users\\hp\\AppData\\Local\\Temp\\ipykernel_8808\\4256139488.py:2: The name tf.enable_eager_execution is deprecated. Please use tf.compat.v1.enable_eager_execution instead.\n",
      "\n"
     ]
    }
   ],
   "source": [
    "import tensorflow as tf\n",
    "tf.compat.v1.enable_eager_execution()\n",
    "# Essential imports\n",
    "import os\n",
    "import numpy as np\n",
    "import matplotlib.pyplot as plt\n",
    "import tensorflow as tf\n",
    "from tensorflow.keras.preprocessing.image import ImageDataGenerator\n",
    "from tensorflow.keras.models import Sequential\n",
    "from tensorflow.keras.layers import Conv2D, MaxPooling2D, Flatten, Dense\n",
    "\n",
    "# Additional imports\n",
    "import glob\n",
    "import random\n",
    "import pandas as pd\n",
    "import cv2\n",
    "from tqdm import tqdm_notebook as tqdm\n",
    "\n",
    "import torch\n",
    "import torch.nn as nn\n",
    "import torchvision\n",
    "from torchvision.transforms import functional as F\n",
    "\n",
    "# Autoreload and matplotlib setting\n",
    "%load_ext autoreload\n",
    "%autoreload 2\n",
    "%matplotlib inline\n",
    "\n"
   ]
  },
  {
   "cell_type": "code",
   "execution_count": 31,
   "id": "74cfc1e5-e0cf-478e-a08e-81b1cd1ba4e9",
   "metadata": {},
   "outputs": [],
   "source": [
    "import os\n",
    "import pandas as pd\n",
    "\n",
    "def get_profile_path(folder_path):\n",
    "    data = []\n",
    "\n",
    "    for category in os.listdir(folder_path):\n",
    "        category_path = os.path.join(folder_path, category)\n",
    "        if os.path.isdir(category_path):\n",
    "            for subcategory in os.listdir(category_path):\n",
    "                subcategory_path = os.path.join(category_path, subcategory)\n",
    "                if os.path.isdir(subcategory_path):\n",
    "                    for image_file in os.listdir(subcategory_path):\n",
    "                        if image_file.endswith('.png'):\n",
    "                            pet_id = image_file.split('.')[0]\n",
    "                            image_path = os.path.join(subcategory_path, image_file)\n",
    "                            data.append({\n",
    "                                'DysID': dys_id,\n",
    "                                'path': image_path,\n",
    "                                'category': category,\n",
    "                                'subcategory': subcategory\n",
    "                            })\n",
    "            \n",
    "    return pd.DataFrame(data)\n",
    "\n",
    "# Replace 'E:/Gambo/train' with the path to your 'train' folder\n",
    "train = get_profile_path('E:/Gambo/Train')\n"
   ]
  },
  {
   "cell_type": "code",
   "execution_count": 32,
   "id": "5b7192cd-b691-4aa5-ac64-fcaccdbb8bd5",
   "metadata": {},
   "outputs": [],
   "source": [
    "import os\n",
    "import cv2\n",
    "import torch\n",
    "import numpy as np\n",
    "from torchvision.transforms import functional as F\n",
    "\n",
    "def resize_to_square(image, size):\n",
    "    h, w, d = image.shape\n",
    "    ratio = size / max(h, w)\n",
    "    resized_image = cv2.resize(image, (int(w * ratio), int(h * ratio)), cv2.INTER_AREA)\n",
    "    return resized_image\n",
    "\n",
    "def pad(image, min_height, min_width):\n",
    "    h, w, d = image.shape\n",
    "    if h < min_height:\n",
    "        h_pad_top = int((min_height - h) / 2.0)\n",
    "        h_pad_bottom = min_height - h - h_pad_top\n",
    "    else:\n",
    "        h_pad_top = 0\n",
    "        h_pad_bottom = 0\n",
    "\n",
    "    if w < min_width:\n",
    "        w_pad_left = int((min_width - w) / 2.0)\n",
    "        w_pad_right = min_width - w - w_pad_left\n",
    "    else:\n",
    "        w_pad_left = 0\n",
    "        w_pad_right = 0\n",
    "\n",
    "    return cv2.copyMakeBorder(image, h_pad_top, h_pad_bottom, w_pad_left, w_pad_right, cv2.BORDER_CONSTANT, value=(0, 0, 0))\n",
    "\n",
    "class HandwritingDataset(torch.utils.data.Dataset):\n",
    "    \n",
    "    def __init__(self, data_path, size=28):\n",
    "        self.data_path = data_path\n",
    "        self.size = size\n",
    "        self.image_paths = []\n",
    "        self.labels = []\n",
    "        self.load_data()\n",
    "\n",
    "    def load_data(self):\n",
    "        categories = ['Corrected', 'Normal', 'REVERSAL']\n",
    "        for category in categories:\n",
    "            category_path = os.path.join(self.data_path, category)\n",
    "            if not os.path.isdir(category_path):\n",
    "                continue\n",
    "\n",
    "            for file_name in os.listdir(category_path):\n",
    "                image_path = os.path.join(category_path, file_name)\n",
    "                if image_path.endswith('.png'):\n",
    "                    self.image_paths.append(image_path)\n",
    "                    # Assuming dyslexic is labeled as 1 and non-dyslexic as 0\n",
    "                    self.labels.append(1 if 'Corrected' in category else 0)\n",
    "\n",
    "    def __len__(self):\n",
    "        return len(self.image_paths)\n",
    "\n",
    "    def __getitem__(self, idx):\n",
    "        image_path = self.image_paths[idx]\n",
    "        label = self.labels[idx]\n",
    "\n",
    "        image = cv2.imread(image_path)\n",
    "        image = cv2.cvtColor(image, cv2.COLOR_BGR2RGB)\n",
    "        image = resize_to_square(image, self.size)\n",
    "        image = pad(image, self.size, self.size)\n",
    "        tensor = torch.from_numpy(np.moveaxis(image / 255., -1, 0).astype(np.float32))\n",
    "        tensor = F.normalize(tensor, mean=[0.485, 0.456, 0.406], std=[0.229, 0.224, 0.225])\n",
    "            \n",
    "        return tensor, label\n",
    "\n",
    "# Usage example:\n",
    "data_path = 'E:/Gambo/Train'\n",
    "handwriting_dataset = HandwritingDataset(data_path)\n"
   ]
  },
  {
   "cell_type": "code",
   "execution_count": 33,
   "id": "e9349a40-3a7f-4afe-965b-313b3919728c",
   "metadata": {},
   "outputs": [
    {
     "name": "stdout",
     "output_type": "stream",
     "text": [
      "0.909769237923872\n"
     ]
    }
   ],
   "source": [
    "import random\n",
    "\n",
    "# Set the random seed\n",
    "random.seed(70)\n",
    "\n",
    "# Generate some random numbers\n",
    "print(random.random())  # Will always print the same number when the code is run with the seed set to 70\n"
   ]
  },
  {
   "cell_type": "code",
   "execution_count": 34,
   "id": "890c41a1-e4e1-4d13-a839-9003e1b9bc58",
   "metadata": {},
   "outputs": [
    {
     "data": {
      "image/png": "[encoded data removed]",
      "text/plain": [
       "<Figure size 640x480 with 1 Axes>"
      ]
     },
     "metadata": {},
     "output_type": "display_data"
    },
    {
     "data": {
      "image/png": "[encoded data removed]",
      "text/plain": [
       "<Figure size 640x480 with 1 Axes>"
      ]
     },
     "metadata": {},
     "output_type": "display_data"
    },
    {
     "data": {
      "image/png": "[encoded data removed]",
      "text/plain": [
       "<Figure size 640x480 with 1 Axes>"
      ]
     },
     "metadata": {},
     "output_type": "display_data"
    },
    {
     "data": {
      "image/png": "[encoded data removed]",
      "text/plain": [
       "<Figure size 640x480 with 1 Axes>"
      ]
     },
     "metadata": {},
     "output_type": "display_data"
    },
    {
     "data": {
      "image/png": "[encoded data removed]",
      "text/plain": [
       "<Figure size 640x480 with 1 Axes>"
      ]
     },
     "metadata": {},
     "output_type": "display_data"
    },
    {
     "data": {
      "image/png": "[encoded data removed]",
      "text/plain": [
       "<Figure size 640x480 with 1 Axes>"
      ]
     },
     "metadata": {},
     "output_type": "display_data"
    },
    {
     "data": {
      "image/png": "[encoded data removed]",
      "text/plain": [
       "<Figure size 640x480 with 1 Axes>"
      ]
     },
     "metadata": {},
     "output_type": "display_data"
    },
    {
     "data": {
      "image/png": "[encoded data removed]",
      "text/plain": [
       "<Figure size 640x480 with 1 Axes>"
      ]
     },
     "metadata": {},
     "output_type": "display_data"
    },
    {
     "data": {
      "image/png": "[encoded data removed]",
      "text/plain": [
       "<Figure size 640x480 with 1 Axes>"
      ]
     },
     "metadata": {},
     "output_type": "display_data"
    },
    {
     "data": {
      "image/png": "[encoded data removed]",
      "text/plain": [
       "<Figure size 640x480 with 1 Axes>"
      ]
     },
     "metadata": {},
     "output_type": "display_data"
    },
    {
     "data": {
      "image/png": "[encoded data removed]",
      "text/plain": [
       "<Figure size 640x480 with 1 Axes>"
      ]
     },
     "metadata": {},
     "output_type": "display_data"
    },
    {
     "data": {
      "image/png": "[encoded data removed]",
      "text/plain": [
       "<Figure size 640x480 with 1 Axes>"
      ]
     },
     "metadata": {},
     "output_type": "display_data"
    },
    {
     "data": {
      "image/png": "[encoded data removed]",
      "text/plain": [
       "<Figure size 640x480 with 1 Axes>"
      ]
     },
     "metadata": {},
     "output_type": "display_data"
    },
    {
     "data": {
      "image/png": "[encoded data removed]",
      "text/plain": [
       "<Figure size 640x480 with 1 Axes>"
      ]
     },
     "metadata": {},
     "output_type": "display_data"
    },
    {
     "data": {
      "image/png": "[encoded data removed]",
      "text/plain": [
       "<Figure size 640x480 with 1 Axes>"
      ]
     },
     "metadata": {},
     "output_type": "display_data"
    }
   ],
   "source": [
    "import os\n",
    "import cv2\n",
    "import random\n",
    "import matplotlib.pyplot as plt\n",
    "\n",
    "class HandwritingDataset:\n",
    "    def __init__(self, data_path, output_size=(100, 100)):\n",
    "        self.image_paths = []\n",
    "        self.labels = []\n",
    "        self.output_size = output_size\n",
    "        self.label_mapping = {'Corrected': 1, 'Normal': 0, 'Reversal': 1}  # Mapping categories to labels\n",
    "        self.load_data(data_path)\n",
    "\n",
    "    def load_data(self, data_path):\n",
    "        categories = ['Corrected', 'Normal', 'Reversal']\n",
    "        for category in categories:\n",
    "            category_path = os.path.join(data_path, category)\n",
    "            if not os.path.exists(category_path):\n",
    "                continue\n",
    "            image_files = [file for file in os.listdir(category_path) if file.endswith('.png')]\n",
    "            selected_files = random.sample(image_files, min(len(image_files), 5))  # Select at most 5 images\n",
    "            for image_file in selected_files:\n",
    "                self.image_paths.append(os.path.join(category_path, image_file))\n",
    "                self.labels.append(self.label_mapping[category])\n",
    "\n",
    "    def __len__(self):\n",
    "        return len(self.image_paths)\n",
    "\n",
    "    def __getitem__(self, idx):\n",
    "        image = cv2.imread(self.image_paths[idx])\n",
    "        image = cv2.cvtColor(image, cv2.COLOR_BGR2RGB)\n",
    "        image = cv2.resize(image, self.output_size)\n",
    "        return image, self.labels[idx]\n",
    "\n",
    "    def display_images(self):\n",
    "        num_images_to_display = 5\n",
    "        for category in ['Corrected', 'Normal', 'Reversal']:\n",
    "            category_paths = [path for path, label in zip(self.image_paths, self.labels) if self.label_mapping[category] == label]\n",
    "            selected_paths = random.sample(category_paths, min(len(category_paths), num_images_to_display))\n",
    "            for image_path in selected_paths:\n",
    "                image = cv2.imread(image_path)\n",
    "                image = cv2.cvtColor(image, cv2.COLOR_BGR2RGB)\n",
    "                image = cv2.resize(image, self.output_size)\n",
    "\n",
    "                plt.imshow(image)\n",
    "                plt.title(f\"Category: {category}\")\n",
    "                plt.axis('off')\n",
    "                plt.show()\n",
    "    \n",
    "    def save_images(self, save_path):\n",
    "        os.makedirs(save_path, exist_ok=True)\n",
    "        for category in ['Corrected', 'Reversal']:\n",
    "            category_paths = [path for path, label in zip(self.image_paths, self.labels) if self.label_mapping[category] == label]\n",
    "            for idx, image_path in enumerate(category_paths):\n",
    "                image = cv2.imread(image_path)\n",
    "                image = cv2.cvtColor(image, cv2.COLOR_BGR2RGB)\n",
    "                image = cv2.resize(image, self.output_size)\n",
    "\n",
    "                # Save images based on category\n",
    "                category_name = 'Dyslexic'\n",
    "                filename = f\"{category_name}_{idx+1}.png\"\n",
    "                save_file_path = os.path.join(save_path, filename)\n",
    "                cv2.imwrite(save_file_path, cv2.cvtColor(image, cv2.COLOR_RGB2BGR))\n",
    "\n",
    "            # Save 'Normal' images as 'Non-dyslexic'\n",
    "            normal_category_paths = [path for path, label in zip(self.image_paths, self.labels) if self.label_mapping['Normal'] == label]\n",
    "            for idx, image_path in enumerate(normal_category_paths):\n",
    "                image = cv2.imread(image_path)\n",
    "                image = cv2.cvtColor(image, cv2.COLOR_BGR2RGB)\n",
    "                image = cv2.resize(image, self.output_size)\n",
    "\n",
    "                category_name = 'Non-dyslexic'\n",
    "                filename = f\"{category_name}_{idx+1}.png\"\n",
    "                save_file_path = os.path.join(save_path, filename)\n",
    "                cv2.imwrite(save_file_path, cv2.cvtColor(image, cv2.COLOR_RGB2BGR))\n",
    "\n",
    "# Example usage:\n",
    "data_path = 'E:/Gambo/Train'\n",
    "handwriting_dataset = HandwritingDataset(data_path, output_size=(50, 50))  # Output size changed to (50, 50)\n",
    "\n",
    "# Display selected images\n",
    "handwriting_dataset.display_images()\n",
    "\n",
    "# Save selected images based on dyslexic classification\n",
    "save_folder = 'E:/SavedImages45'  # Define your save path here\n",
    "handwriting_dataset.save_images(save_folder)\n"
   ]
  },
  {
   "cell_type": "code",
   "execution_count": 35,
   "id": "02bcbf41-459a-4234-85bf-089bad2233d3",
   "metadata": {},
   "outputs": [],
   "source": [
    "import os\n",
    "import pandas as pd\n",
    "import numpy as np\n",
    "import torch\n",
    "import torchvision\n",
    "from torchvision import transforms\n",
    "from PIL import Image\n",
    "from tqdm import tqdm\n",
    "\n",
    "class HandwritingDataset(torch.utils.data.Dataset):\n",
    "    def __init__(self, df, size):\n",
    "        self.df = df\n",
    "        self.size = size\n",
    "        self.transforms = transforms.Compose([\n",
    "            transforms.Resize((size, size)),\n",
    "            transforms.ToTensor(),\n",
    "            transforms.Normalize((0.5,), (0.5,))\n",
    "        ])\n",
    "        \n",
    "    def __len__(self):\n",
    "        return len(self.df)\n",
    "    \n",
    "    def __getitem__(self, idx):\n",
    "        img_path = self.df.iloc[idx]['path']\n",
    "        label = self.df.iloc[idx]['label']\n",
    "        image = Image.open(img_path).convert('L')  # Convert to grayscale\n",
    "        image = self.transforms(image)\n",
    "        return image, label\n",
    "\n",
    "def extract_features(df, model_name='densenet121', layer_name='features'):\n",
    "    get_model = getattr(torchvision.models, model_name)\n",
    "    model = get_model(pretrained=True)\n",
    "    model.eval()\n",
    "\n",
    "    features = []\n",
    "    def hook(module, input, output):\n",
    "        N, C, H, W = output.shape\n",
    "        output = output.reshape(N, C, -1)\n",
    "        features.append(output.mean(dim=2).detach().numpy())\n",
    "    \n",
    "    handle = model._modules.get(layer_name).register_forward_hook(hook)\n",
    "\n",
    "    dataset = HandwritingDataset(df, size=224)\n",
    "    loader = torch.utils.data.DataLoader(dataset, batch_size=8, shuffle=False, num_workers=4)\n",
    "\n",
    "    for inputs, labels in tqdm(loader, total=len(loader)):\n",
    "        _ = model(inputs)\n",
    "\n",
    "    features = np.concatenate(features)\n",
    "    features_df = pd.DataFrame(features)\n",
    "    features_df = features_df.add_prefix('FEATURE_')\n",
    "    features_df['LABEL'] = df['label'].values\n",
    "    \n",
    "    handle.remove()\n",
    "    del model\n",
    "\n",
    "    return features_df\n"
   ]
  },
  {
   "cell_type": "code",
   "execution_count": 36,
   "id": "9547b067-d169-48d2-ab98-e8b4e97f3615",
   "metadata": {},
   "outputs": [],
   "source": [
    "import os\n",
    "\n",
    "# Define the main directories\n",
    "train_path = 'E:/Gambo/Train'  # Replace with your actual path to the training data\n",
    "test_path = 'E:/Gambo/Test'    # Replace with your actual path to the testing data\n",
    "\n",
    "# List of subfolders\n",
    "subfolders = ['Corrected', 'Normal', 'Reversal']\n",
    "\n",
    "# Set permissions for train folders\n",
    "for folder in subfolders:\n",
    "    folder_path = os.path.join(train_path, folder)\n",
    "    os.chmod(folder_path, 0o777)  # Change permissions as needed\n",
    "\n",
    "# Set permissions for test folders\n",
    "for folder in subfolders:\n",
    "    folder_path = os.path.join(test_path, folder)\n",
    "    os.chmod(folder_path, 0o777)  # Change permissions as needed\n"
   ]
  },
  {
   "cell_type": "code",
   "execution_count": 37,
   "id": "a15a47d0-c11e-4ef3-bfcc-47a839dbdb1a",
   "metadata": {},
   "outputs": [
    {
     "name": "stdout",
     "output_type": "stream",
     "text": [
      "Found 151649 images belonging to 3 classes.\n",
      "Found 56723 images belonging to 3 classes.\n",
      "{0: 'Corrected', 1: 'Normal', 2: 'Reversal'}\n"
     ]
    }
   ],
   "source": [
    "train_dir = 'E:/Gambo/train'\n",
    "test_dir = 'E:/Gambo/test'\n",
    "\n",
    "train_datagen = ImageDataGenerator(rescale=1./255)\n",
    "test_datagen = ImageDataGenerator(rescale=1./255)\n",
    "\n",
    "train_generator = train_datagen.flow_from_directory(\n",
    "    train_dir,\n",
    "    target_size=(28, 28),\n",
    "    batch_size=32,\n",
    "    class_mode='categorical'\n",
    ")\n",
    "\n",
    "test_generator = test_datagen.flow_from_directory(\n",
    "    test_dir,\n",
    "    target_size=(28, 28),\n",
    "    batch_size=32,\n",
    "    class_mode='categorical'\n",
    ")\n",
    "labels_dict = {class_name: label for label, class_name in train_generator.class_indices.items()}\n",
    "print(labels_dict)"
   ]
  },
  {
   "cell_type": "code",
   "execution_count": 38,
   "id": "cb0ec219-8c62-41ec-b5bc-06bdecbce1e4",
   "metadata": {},
   "outputs": [
    {
     "name": "stdout",
     "output_type": "stream",
     "text": [
      "WARNING:tensorflow:From C:\\Users\\hp\\AppData\\Local\\Temp\\ipykernel_8808\\3911753586.py:8: disable_resource_variables (from tensorflow.python.ops.variable_scope) is deprecated and will be removed in a future version.\n",
      "Instructions for updating:\n",
      "non-resource variables are not supported in the long term\n"
     ]
    },
    {
     "name": "stderr",
     "output_type": "stream",
     "text": [
      "WARNING:tensorflow:From C:\\Users\\hp\\AppData\\Local\\Temp\\ipykernel_8808\\3911753586.py:8: disable_resource_variables (from tensorflow.python.ops.variable_scope) is deprecated and will be removed in a future version.\n",
      "Instructions for updating:\n",
      "non-resource variables are not supported in the long term\n"
     ]
    },
    {
     "name": "stdout",
     "output_type": "stream",
     "text": [
      "Model: \"sequential\"\n",
      "_________________________________________________________________\n",
      " Layer (type)                Output Shape              Param #   \n",
      "=================================================================\n",
      " conv2d (Conv2D)             (None, 26, 26, 32)        896       \n",
      "                                                                 \n",
      " max_pooling2d (MaxPooling2  (None, 13, 13, 32)        0         \n",
      " D)                                                              \n",
      "                                                                 \n",
      " dropout (Dropout)           (None, 13, 13, 32)        0         \n",
      "                                                                 \n",
      " conv2d_1 (Conv2D)           (None, 11, 11, 64)        18496     \n",
      "                                                                 \n",
      " max_pooling2d_1 (MaxPoolin  (None, 5, 5, 64)          0         \n",
      " g2D)                                                            \n",
      "                                                                 \n",
      " dropout_1 (Dropout)         (None, 5, 5, 64)          0         \n",
      "                                                                 \n",
      " conv2d_2 (Conv2D)           (None, 3, 3, 128)         73856     \n",
      "                                                                 \n",
      " max_pooling2d_2 (MaxPoolin  (None, 1, 1, 128)         0         \n",
      " g2D)                                                            \n",
      "                                                                 \n",
      " dropout_2 (Dropout)         (None, 1, 1, 128)         0         \n",
      "                                                                 \n",
      " flatten (Flatten)           (None, 128)               0         \n",
      "                                                                 \n",
      " dense (Dense)               (None, 256)               33024     \n",
      "                                                                 \n",
      " dropout_3 (Dropout)         (None, 256)               0         \n",
      "                                                                 \n",
      " dense_1 (Dense)             (None, 3)                 771       \n",
      "                                                                 \n",
      "=================================================================\n",
      "Total params: 127043 (496.26 KB)\n",
      "Trainable params: 127043 (496.26 KB)\n",
      "Non-trainable params: 0 (0.00 Byte)\n",
      "_________________________________________________________________\n"
     ]
    }
   ],
   "source": [
    "from tensorflow.keras.models import Sequential\n",
    "from tensorflow.keras.layers import Conv2D, MaxPooling2D, Flatten, Dense, Dropout\n",
    "import tensorflow as tf\n",
    "from tensorflow.compat.v1 import disable_resource_variables\n",
    "\n",
    "\n",
    "\n",
    "disable_resource_variables()\n",
    "\n",
    "model = Sequential()\n",
    "\n",
    "model.add(Conv2D(32, (3, 3), activation='relu', input_shape=(28, 28, 3)))\n",
    "model.add(MaxPooling2D((2, 2)))\n",
    "model.add(Dropout(0.25))\n",
    "\n",
    "model.add(Conv2D(64, (3, 3), activation='relu'))\n",
    "model.add(MaxPooling2D((2, 2)))\n",
    "model.add(Dropout(0.25))\n",
    "\n",
    "model.add(Conv2D(128, (3, 3), activation='relu'))\n",
    "model.add(MaxPooling2D((2, 2)))\n",
    "model.add(Dropout(0.25))\n",
    "\n",
    "model.add(Flatten())\n",
    "\n",
    "model.add(Dense(256, activation='relu'))\n",
    "model.add(Dropout(0.5))\n",
    "model.add(Dense(3, activation='softmax'))\n",
    "\n",
    "model.compile(optimizer='adam',\n",
    "              loss='categorical_crossentropy',\n",
    "              metrics=['accuracy'])\n",
    "\n",
    "model.summary()\n",
    "model.save('dyscnnmodel.keras')\n"
   ]
  },
  {
   "cell_type": "code",
   "execution_count": 39,
   "id": "5f29e44c-5914-4941-bdd8-c3ceb8cedf93",
   "metadata": {},
   "outputs": [],
   "source": [
    "import os\n",
    "import shutil\n",
    "\n",
    "# Source and destination directories\n",
    "source_dir = 'E:/Gambo/Train'\n",
    "destination_dir = 'E:/ProcessedData'\n",
    "\n",
    "# Create destination directories\n",
    "os.makedirs(os.path.join(destination_dir, 'Dyslexic'), exist_ok=True)\n",
    "os.makedirs(os.path.join(destination_dir, 'NonDyslexic'), exist_ok=True)\n",
    "\n",
    "# Mapping classes to labels\n",
    "class_mapping = {\n",
    "    'Corrected': 'Dyslexic',\n",
    "    'Reversal': 'Dyslexic',\n",
    "    'Normal': 'NonDyslexic'\n",
    "}\n",
    "\n",
    "# Loop through the source directory\n",
    "for class_folder in os.listdir(source_dir):\n",
    "    class_path = os.path.join(source_dir, class_folder)\n",
    "    if os.path.isdir(class_path):\n",
    "        label = class_mapping[class_folder]\n",
    "        destination_path = os.path.join(destination_dir, label)\n",
    "        for file in os.listdir(class_path):\n",
    "            file_path = os.path.join(class_path, file)\n",
    "            if file.endswith('.png'):\n",
    "                shutil.copy(file_path, destination_path)\n"
   ]
  },
  {
   "cell_type": "code",
   "execution_count": 40,
   "id": "e8935965-360b-4042-a764-aa60696521bb",
   "metadata": {},
   "outputs": [
    {
     "name": "stdout",
     "output_type": "stream",
     "text": [
      "Epoch 1/15\n",
      "WARNING:tensorflow:From C:\\Users\\hp\\anaconda3\\Lib\\site-packages\\keras\\src\\utils\\tf_utils.py:492: The name tf.ragged.RaggedTensorValue is deprecated. Please use tf.compat.v1.ragged.RaggedTensorValue instead.\n",
      "\n"
     ]
    },
    {
     "name": "stderr",
     "output_type": "stream",
     "text": [
      "WARNING:tensorflow:From C:\\Users\\hp\\anaconda3\\Lib\\site-packages\\keras\\src\\utils\\tf_utils.py:492: The name tf.ragged.RaggedTensorValue is deprecated. Please use tf.compat.v1.ragged.RaggedTensorValue instead.\n",
      "\n"
     ]
    },
    {
     "name": "stdout",
     "output_type": "stream",
     "text": [
      "4739/4739 [==============================] - 421s 88ms/step - loss: 0.3638 - accuracy: 0.8601 - val_loss: 0.3760 - val_accuracy: 0.8601\n",
      "Epoch 2/15\n",
      "4739/4739 [==============================] - 150s 32ms/step - loss: 0.2192 - accuracy: 0.9203 - val_loss: 0.3454 - val_accuracy: 0.8803\n",
      "Epoch 3/15\n",
      "4739/4739 [==============================] - 147s 31ms/step - loss: 0.1823 - accuracy: 0.9339 - val_loss: 0.3399 - val_accuracy: 0.8826\n",
      "Epoch 4/15\n",
      "4739/4739 [==============================] - 167s 35ms/step - loss: 0.1616 - accuracy: 0.9421 - val_loss: 0.3162 - val_accuracy: 0.8889\n",
      "Epoch 5/15\n",
      "4739/4739 [==============================] - 171s 36ms/step - loss: 0.1495 - accuracy: 0.9458 - val_loss: 0.3487 - val_accuracy: 0.8911\n",
      "Epoch 6/15\n",
      "4739/4739 [==============================] - 156s 33ms/step - loss: 0.1433 - accuracy: 0.9490 - val_loss: 0.3502 - val_accuracy: 0.8922\n",
      "Epoch 7/15\n",
      "4739/4739 [==============================] - 186s 39ms/step - loss: 0.1366 - accuracy: 0.9513 - val_loss: 0.3495 - val_accuracy: 0.8916\n",
      "Epoch 8/15\n",
      "4739/4739 [==============================] - 202s 43ms/step - loss: 0.1332 - accuracy: 0.9531 - val_loss: 0.3798 - val_accuracy: 0.8900\n",
      "Epoch 9/15\n",
      "4739/4739 [==============================] - 202s 43ms/step - loss: 0.1281 - accuracy: 0.9546 - val_loss: 0.3410 - val_accuracy: 0.8991\n",
      "Epoch 10/15\n",
      "4739/4739 [==============================] - 197s 42ms/step - loss: 0.1246 - accuracy: 0.9555 - val_loss: 0.3416 - val_accuracy: 0.8973\n",
      "Epoch 11/15\n",
      "4739/4739 [==============================] - 202s 43ms/step - loss: 0.1233 - accuracy: 0.9565 - val_loss: 0.3428 - val_accuracy: 0.8963\n",
      "Epoch 12/15\n",
      "4739/4739 [==============================] - 201s 42ms/step - loss: 0.1184 - accuracy: 0.9576 - val_loss: 0.3759 - val_accuracy: 0.8964\n",
      "Epoch 13/15\n",
      "4739/4739 [==============================] - 192s 40ms/step - loss: 0.1168 - accuracy: 0.9586 - val_loss: 0.3923 - val_accuracy: 0.8916\n",
      "Epoch 14/15\n",
      "4739/4739 [==============================] - 196s 41ms/step - loss: 0.1156 - accuracy: 0.9597 - val_loss: 0.3426 - val_accuracy: 0.9006\n",
      "Epoch 15/15\n",
      "4739/4739 [==============================] - 201s 43ms/step - loss: 0.1129 - accuracy: 0.9597 - val_loss: 0.3767 - val_accuracy: 0.8914\n"
     ]
    }
   ],
   "source": [
    "history = model.fit(\n",
    "    train_generator,\n",
    "    steps_per_epoch=train_generator.n // train_generator.batch_size,\n",
    "    epochs=15,\n",
    "    validation_data=test_generator,\n",
    "    validation_steps=test_generator.n // test_generator.batch_size\n",
    ")\n"
   ]
  },
  {
   "cell_type": "code",
   "execution_count": 41,
   "id": "dd079718-d794-40c6-8d06-53bbc4179a7b",
   "metadata": {},
   "outputs": [
    {
     "name": "stdout",
     "output_type": "stream",
     "text": [
      "1773/1773 [==============================] - 34s 19ms/step - loss: 0.3766 - accuracy: 0.8914\n",
      "Test Loss: 0.37658658623695374\n",
      "Test Accuracy: 0.8914020657539368\n"
     ]
    }
   ],
   "source": [
    "test_loss, test_accuracy = model.evaluate(test_generator)\n",
    "print(f\"Test Loss: {test_loss}\")\n",
    "print(f\"Test Accuracy: {test_accuracy}\")\n"
   ]
  },
  {
   "cell_type": "code",
   "execution_count": 6,
   "id": "ea8b7dd4-425f-4ea5-9984-e29cbd56c23f",
   "metadata": {},
   "outputs": [
    {
     "name": "stdout",
     "output_type": "stream",
     "text": [
      "Scraped 1882 words. Saved to homophones.txt\n"
     ]
    }
   ],
   "source": [
    "import fitz  # PyMuPDF\n",
    "import re\n",
    "import requests  # Import the requests library\n",
    "\n",
    "# Function to extract text from a PDF file\n",
    "def extract_text_from_pdf(pdf_path):\n",
    "    doc = fitz.open(pdf_path)\n",
    "    text = \"\"\n",
    "    for page_num in range(doc.page_count):\n",
    "        page = doc[page_num]\n",
    "        text += page.get_text()\n",
    "    doc.close()\n",
    "    return text\n",
    "\n",
    "# Function to extract words of a specific length from text\n",
    "def extract_words_of_length(text, length):\n",
    "    words = re.findall(r'\\b\\w+\\b', text.lower())  # Extract words (ignoring punctuation)\n",
    "    return [word for word in words if len(word) == length]\n",
    "\n",
    "# URL of the PDF file\n",
    "pdf_url = \"https://downloads.allaboutlearningpress.com/downloads/Blog_Samples/The-Big-List-of-Homophones.pdf\"\n",
    "\n",
    "# Download the PDF file\n",
    "pdf_filename = \"homophones.pdf\"\n",
    "response = requests.get(pdf_url)\n",
    "with open(pdf_filename, 'wb') as pdf_file:\n",
    "    pdf_file.write(response.content)\n",
    "\n",
    "# Extract text from the PDF\n",
    "pdf_text = extract_text_from_pdf(pdf_filename)\n",
    "\n",
    "# Extract 3, 4, and 5-letter words\n",
    "three_letter_words = extract_words_of_length(pdf_text, 3)\n",
    "four_letter_words = extract_words_of_length(pdf_text, 4)\n",
    "five_letter_words = extract_words_of_length(pdf_text, 5)\n",
    "\n",
    "# Combine the words\n",
    "all_words = three_letter_words + four_letter_words + five_letter_words\n",
    "\n",
    "# Save the words to a text file\n",
    "output_file_path = \"homophones.txt\"\n",
    "with open(output_file_path, 'w') as file:\n",
    "    for word in all_words:\n",
    "        file.write(word + '\\n')\n",
    "\n",
    "print(f\"Scraped {len(all_words)} words. Saved to {output_file_path}\")\n"
   ]
  },
  {
   "cell_type": "code",
   "execution_count": 7,
   "id": "c234e65a-8864-4f2d-9fc1-83c1d69ebc8f",
   "metadata": {},
   "outputs": [
    {
     "name": "stdout",
     "output_type": "stream",
     "text": [
      "Randomly selected 500 words. Saved to selected_homophones.txt\n"
     ]
    }
   ],
   "source": [
    "import random\n",
    "\n",
    "# Load the list of words from the file\n",
    "with open('homophones.txt', 'r') as file:\n",
    "    word_list = file.read().splitlines()\n",
    "\n",
    "# Randomly select 500 words\n",
    "selected_words = random.sample(word_list, 500)\n",
    "\n",
    "# Save the selected words to a new text file\n",
    "with open('selected_homophones.txt', 'w') as file:\n",
    "    for word in selected_words:\n",
    "        file.write(word + '\\n')\n",
    "\n",
    "print(\"Randomly selected 500 words. Saved to selected_homophones.txt\")\n"
   ]
  },
  {
   "cell_type": "code",
   "execution_count": 8,
   "id": "efd9da4d-08dd-4ae2-a2df-d707592df7d7",
   "metadata": {},
   "outputs": [
    {
     "name": "stdout",
     "output_type": "stream",
     "text": [
      "Duration of combined audio 1: 4.128 seconds\n",
      "Duration of combined audio 2: 3.36 seconds\n",
      "Duration of combined audio 3: 3.816 seconds\n",
      "Duration of combined audio 4: 3.936 seconds\n",
      "Duration of combined audio 5: 3.36 seconds\n",
      "All words spoken.\n"
     ]
    }
   ],
   "source": [
    "import os\n",
    "from gtts import gTTS\n",
    "import random\n",
    "from pydub import AudioSegment\n",
    "\n",
    "# Read homophones from the text file\n",
    "with open('selected_homophones.txt', 'r') as file:\n",
    "    all_words = [line.strip() for line in file]\n",
    "\n",
    "# Randomly select 5 words\n",
    "selected_words = random.sample(all_words, 5)\n",
    "\n",
    "selected_words_file = 'selected_words.txt'\n",
    "with open(selected_words_file, 'w') as file:\n",
    "    file.write(\"\\n\".join(selected_words))\n",
    "\n",
    "# Create folders to save audio files\n",
    "audio_folder = 'audio_outputs'\n",
    "combined_audio_folder = 'combined_audio'\n",
    "os.makedirs(audio_folder, exist_ok=True)\n",
    "os.makedirs(combined_audio_folder, exist_ok=True)\n",
    "\n",
    "def speak_word(word, spelling, index):\n",
    "    # Speak the word\n",
    "    text_to_speak_word = f\"The word is {word}.\"\n",
    "    tts_word = gTTS(text=text_to_speak_word, lang='en', slow=True) \n",
    "    #tts_word = gTTS(text=text_to_speak_word, lang='en')\n",
    "    audio_path_word = os.path.join(audio_folder, f'audio_{index}_word.mp3')\n",
    "    tts_word.save(audio_path_word)\n",
    "\n",
    "    # Save the spelling audio separately\n",
    "    spelling_tts = gTTS(text=spelling, lang='en', slow=True)\n",
    "   # spelling_tts = gTTS(text=spelling, lang='en')\n",
    "    spelling_audio_path = os.path.join(audio_folder, f'audio_{index}_spelling.mp3')\n",
    "    spelling_tts.save(spelling_audio_path)\n",
    "\n",
    "    # Load audio segments\n",
    "    word_audio = AudioSegment.from_mp3(audio_path_word)\n",
    "    spelling_audio = AudioSegment.from_mp3(spelling_audio_path)\n",
    "\n",
    "    # Combine word and spelling audio into a single file\n",
    "    combined_audio = word_audio + spelling_audio\n",
    "    combined_path = os.path.join(combined_audio_folder, f'combined_{index}.mp3')\n",
    "    combined_audio.export(combined_path, format='mp3')\n",
    "\n",
    "    # Print the duration of the combined audio\n",
    "    print(f\"Duration of combined audio {index}: {len(combined_audio) / 1000} seconds\")\n",
    "\n",
    "# Iterate over each selected word and its spelling\n",
    "for index, word in enumerate(selected_words, 1):\n",
    "    # Assume the spelling is just the word itself, you can replace it with actual spellings\n",
    "    spelling = \" \".join(word)\n",
    "\n",
    "    # Speak the word and its spelling\n",
    "    speak_word(word, spelling, index)\n",
    "\n",
    "print(\"All words spoken.\")\n"
   ]
  },
  {
   "cell_type": "code",
   "execution_count": null,
   "id": "1353e5e3-a1d6-4489-9b2a-efce0c2e56cb",
   "metadata": {},
   "outputs": [],
   "source": []
  },
  {
   "cell_type": "code",
   "execution_count": 9,
   "id": "d09e1d8d-dd0b-4f9e-af9f-e702bac4ce1c",
   "metadata": {},
   "outputs": [
    {
     "name": "stdout",
     "output_type": "stream",
     "text": [
      "pygame 2.5.2 (SDL 2.28.3, Python 3.11.5)\n",
      "Hello from the pygame community. https://www.pygame.org/contribute.html\n"
     ]
    }
   ],
   "source": [
    "import tkinter as tk\n",
    "from tkinter import messagebox\n",
    "from PIL import Image, ImageDraw\n",
    "import os\n",
    "import pygame\n",
    "\n",
    "# Initialize Tkinter\n",
    "root = tk.Tk()\n",
    "root.title(\"Word Writing App\")\n",
    "\n",
    "# Set up the canvas\n",
    "canvas = tk.Canvas(root, width=400, height=400, bg=\"white\")\n",
    "canvas.pack()\n",
    "\n",
    "# Set up the audio folder\n",
    "combined_audio_folder = 'combined_audio'\n",
    "audio_files = [file for file in os.listdir(combined_audio_folder) if file.endswith('.mp3')]\n",
    "audio_files.sort()\n",
    "\n",
    "# Set up the image saving folder\n",
    "image_save_folder = 'drawn_images'\n",
    "os.makedirs(image_save_folder, exist_ok=True)\n",
    "\n",
    "# Set up the information saving file (simple text file for demonstration)\n",
    "info_file_path = 'user_info.txt'\n",
    "\n",
    "# Initialize pygame mixer\n",
    "pygame.mixer.init()\n",
    "\n",
    "# Function to play the combined audio\n",
    "def play_combined_audio(index):\n",
    "    audio_path = os.path.join(combined_audio_folder, audio_files[index])\n",
    "    pygame.mixer.music.load(audio_path)\n",
    "    pygame.mixer.music.play()\n",
    "\n",
    "# Function to create a new drawing canvas for each word\n",
    "def create_new_canvas():\n",
    "    image = Image.new(\"RGB\", (400, 400), \"white\")\n",
    "    draw = ImageDraw.Draw(image)\n",
    "    return image, draw\n",
    "\n",
    "# Function to clear the canvas\n",
    "def clear_canvas():\n",
    "    canvas.delete(\"all\")\n",
    "\n",
    "# Function to display a new word\n",
    "def display_word(index):\n",
    "    global image, draw\n",
    "    clear_canvas()\n",
    "    image, draw = create_new_canvas()\n",
    "    play_combined_audio(index)\n",
    "    label_word.config(text=f\"Write the word!\")\n",
    "    root.after(5000, lambda: save_image(index))  # Increase the delay to 5000 milliseconds (5 seconds)\n",
    "\n",
    "# Function to save the drawn image along with user information\n",
    "def save_image(index):\n",
    "    canvas.unbind(\"<B1-Motion>\")  # Disable drawing during the delay\n",
    "    filename = os.path.join(image_save_folder, f\"word_{index}_drawing.png\")\n",
    "    image.save(filename)\n",
    "\n",
    "    # Collect user information\n",
    "    name = entry_name.get()\n",
    "    age = entry_age.get()\n",
    "\n",
    "    # Save user information along with the filename\n",
    "    with open(info_file_path, 'a') as info_file:\n",
    "        info_file.write(f\"Name: {name}, Age: {age}, Image: {filename}\\n\")\n",
    "\n",
    "    messagebox.showinfo(\"Saved\", f\"Image saved as {filename}\")\n",
    "    clear_canvas()  # Clear the canvas before allowing the next word\n",
    "    canvas.bind(\"<B1-Motion>\", paint)  # Enable drawing for the next word\n",
    "    if index < len(audio_files) - 1:\n",
    "        display_word(index + 1)\n",
    "    else:\n",
    "        label_word.config(text=\"All words completed!\")\n",
    "\n",
    "# Entry for user to input name\n",
    "label_name = tk.Label(root, text=\"Name:\")\n",
    "label_name.pack()\n",
    "entry_name = tk.Entry(root)\n",
    "entry_name.pack()\n",
    "\n",
    "# Entry for user to input age\n",
    "label_age = tk.Label(root, text=\"Age:\")\n",
    "label_age.pack()\n",
    "entry_age = tk.Entry(root)\n",
    "entry_age.pack()\n",
    "\n",
    "# Button to save the current drawing\n",
    "button_save = tk.Button(root, text=\"Save\", command=lambda: save_image(current_word_index))\n",
    "button_save.pack()\n",
    "\n",
    "# Label to display instructions\n",
    "label_word = tk.Label(root, text=\"\")\n",
    "label_word.pack()\n",
    "\n",
    "# Binding for drawing on the canvas\n",
    "def paint(event):\n",
    "    x1, y1 = (event.x - 5), (event.y - 5)\n",
    "    x2, y2 = (event.x + 5), (event.y + 5)\n",
    "    canvas.create_oval(x1, y1, x2, y2, fill=\"black\")  # Draw in black color\n",
    "    draw.line([x1, y1, x2, y2], fill=\"black\", width=10)  # Draw in black color\n",
    "\n",
    "canvas.bind(\"<B1-Motion>\", paint)\n",
    "\n",
    "# Display the first word\n",
    "current_word_index = 0\n",
    "image, draw = create_new_canvas()\n",
    "display_word(current_word_index)\n",
    "\n",
    "# Start the event loop\n",
    "root.mainloop()\n"
   ]
  },
  {
   "cell_type": "code",
   "execution_count": 10,
   "id": "ac8fec2f-7411-469b-addc-4a446e38f6b1",
   "metadata": {},
   "outputs": [
    {
     "name": "stderr",
     "output_type": "stream",
     "text": [
      "WARNING:absl:Skipping variable loading for optimizer 'Adam', because it has 21 variables whereas the saved optimizer has 1 variables. \n"
     ]
    },
    {
     "name": "stdout",
     "output_type": "stream",
     "text": [
      "OCR Text: ['(ian', '']\n",
      "1/1 [==============================] - 0s 81ms/step\n",
      "1/1 [==============================] - 0s 24ms/step\n",
      "1/1 [==============================] - 0s 26ms/step\n",
      "Image: word_0_drawing.png, Classification: Dyslexic\n",
      "OCR Text: ['Qo', '']\n",
      "1/1 [==============================] - 0s 24ms/step\n",
      "1/1 [==============================] - 0s 28ms/step\n",
      "Image: word_1_drawing.png, Classification: Dyslexic\n",
      "OCR Text: ['']\n",
      "1/1 [==============================] - 0s 30ms/step\n",
      "1/1 [==============================] - 0s 28ms/step\n",
      "1/1 [==============================] - 0s 29ms/step\n",
      "Image: word_2_drawing.png, Classification: Dyslexic\n",
      "OCR Text: ['']\n",
      "1/1 [==============================] - 0s 26ms/step\n",
      "1/1 [==============================] - 0s 25ms/step\n",
      "Image: word_3_drawing.png, Classification: Dyslexic\n",
      "OCR Text: ['']\n",
      "1/1 [==============================] - 0s 25ms/step\n",
      "1/1 [==============================] - 0s 25ms/step\n",
      "1/1 [==============================] - 0s 26ms/step\n",
      "Image: word_4_drawing.png, Classification: Dyslexic\n"
     ]
    }
   ],
   "source": [
    "import cv2\n",
    "import os\n",
    "import pytesseract\n",
    "import numpy as np\n",
    "from tensorflow.keras.models import load_model\n",
    "\n",
    "# Load the trained model\n",
    "model_path = 'dyscnnmodel.keras'  # Replace with your model path\n",
    "model = load_model(model_path)\n",
    "\n",
    "# Function to perform OCR on a given image\n",
    "def perform_ocr(image_path):\n",
    "    # Read the image and perform OCR\n",
    "    img = cv2.imread(image_path)\n",
    "    gray = cv2.cvtColor(img, cv2.COLOR_BGR2GRAY)\n",
    "\n",
    "    # Apply thresholding to create a binary image\n",
    "    _, thresh = cv2.threshold(gray, 150, 255, cv2.THRESH_BINARY_INV)\n",
    "\n",
    "    # Find contours\n",
    "    contours, _ = cv2.findContours(thresh, cv2.RETR_EXTERNAL, cv2.CHAIN_APPROX_SIMPLE)\n",
    "\n",
    "    # Sort contours from left to right\n",
    "    contours = sorted(contours, key=lambda x: cv2.boundingRect(x)[0])\n",
    "\n",
    "    # Predict each letter\n",
    "    predicted_letters = []\n",
    "    for contour in contours:\n",
    "        # Get bounding box coordinates for each contour\n",
    "        x, y, w, h = cv2.boundingRect(contour)\n",
    "\n",
    "        # Extract the letter region from the image\n",
    "        letter = gray[y:y + h, x:x + w]\n",
    "\n",
    "        # Resize the letter region to match the model's input shape\n",
    "        resized_letter = cv2.resize(letter, (28, 28))\n",
    "\n",
    "        # Convert letter to RGB format (3 channels)\n",
    "        resized_letter_rgb = cv2.cvtColor(resized_letter, cv2.COLOR_GRAY2RGB)\n",
    "\n",
    "        # Prepare the letter image for prediction\n",
    "        letter_for_prediction = np.expand_dims(resized_letter_rgb, axis=0)\n",
    "        letter_for_prediction = letter_for_prediction / 255.0  # Normalize pixel values\n",
    "\n",
    "        # Predict using the loaded model\n",
    "        prediction = np.argmax(model.predict(letter_for_prediction), axis=-1)\n",
    "        predicted_letters.append(chr(prediction.item() + 97))  # Convert prediction to letter (assuming class indices 0-25)\n",
    "\n",
    "    return predicted_letters\n",
    "\n",
    "# Function to check dyslexia based on OCR output\n",
    "def check_dyslexia(ocr_output, selected_words):\n",
    "    dyslexic_words = set(ocr_output) - set(selected_words)\n",
    "    return len(dyslexic_words) > 0\n",
    "\n",
    "# Folder containing drawn images\n",
    "image_folder = 'drawn_images'\n",
    "\n",
    "# Tesseract OCR configuration\n",
    "config_ocr = ('-l eng --oem 1 --psm 3')\n",
    "\n",
    "# Set Tesseract executable path (replace with your path)\n",
    "pytesseract.pytesseract.tesseract_cmd = 'C:/Program Files/Tesseract-OCR/tesseract.exe'\n",
    "\n",
    "# Read selected words from a text file\n",
    "selected_words_file = 'selected_words.txt'\n",
    "with open(selected_words_file, 'r') as file:\n",
    "    selected_words = set([word.strip() for word in file.readlines()])\n",
    "\n",
    "# Iterate over images in the folder\n",
    "for filename in os.listdir(image_folder):\n",
    "    if filename.endswith('.png'):\n",
    "        image_path = os.path.join(image_folder, filename)\n",
    "\n",
    "        # Perform OCR on the image\n",
    "        ext = pytesseract.image_to_string(cv2.imread(image_path), config=config_ocr)\n",
    "        text_ocr = ext.split('\\n')  # Splitting the OCR output into lines\n",
    "        print(\"OCR Text:\", text_ocr)\n",
    "\n",
    "        predicted_letters = perform_ocr(image_path)\n",
    "\n",
    "        # Check dyslexia based on OCR output\n",
    "        is_dyslexic = check_dyslexia(predicted_letters, selected_words)\n",
    "\n",
    "        # Print classification result for the current image\n",
    "        if is_dyslexic:\n",
    "            print(f\"Image: {filename}, Classification: Dyslexic\")\n",
    "        else:\n",
    "            print(f\"Image: {filename}, Classification: Non-Dyslexic\")\n"
   ]
  }
 ],
 "metadata": {
  "kernelspec": {
   "display_name": "Python 3 (ipykernel)",
   "language": "python",
   "name": "python3"
  },
  "language_info": {
   "codemirror_mode": {
    "name": "ipython",
    "version": 3
   },
   "file_extension": ".py",
   "mimetype": "text/x-python",
   "name": "python",
   "nbconvert_exporter": "python",
   "pygments_lexer": "ipython3",
   "version": "3.11.5"
  }
 },
 "nbformat": 4,
 "nbformat_minor": 5
}
